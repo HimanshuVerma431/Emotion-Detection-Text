{
 "cells": [
  {
   "cell_type": "code",
   "execution_count": 1,
   "id": "b8bc4787",
   "metadata": {},
   "outputs": [],
   "source": [
    "import pandas as pd\n",
    "import warnings\n",
    "warnings.filterwarnings(\"ignore\")"
   ]
  },
  {
   "cell_type": "code",
   "execution_count": 2,
   "id": "038ca578",
   "metadata": {},
   "outputs": [],
   "source": [
    "data=pd.read_csv(\"tweet_emotions.csv\",index_col='tweet_id')"
   ]
  },
  {
   "cell_type": "code",
   "execution_count": 3,
   "id": "9aded56c",
   "metadata": {},
   "outputs": [
    {
     "data": {
      "text/html": [
       "<div>\n",
       "<style scoped>\n",
       "    .dataframe tbody tr th:only-of-type {\n",
       "        vertical-align: middle;\n",
       "    }\n",
       "\n",
       "    .dataframe tbody tr th {\n",
       "        vertical-align: top;\n",
       "    }\n",
       "\n",
       "    .dataframe thead th {\n",
       "        text-align: right;\n",
       "    }\n",
       "</style>\n",
       "<table border=\"1\" class=\"dataframe\">\n",
       "  <thead>\n",
       "    <tr style=\"text-align: right;\">\n",
       "      <th></th>\n",
       "      <th>sentiment</th>\n",
       "      <th>content</th>\n",
       "    </tr>\n",
       "    <tr>\n",
       "      <th>tweet_id</th>\n",
       "      <th></th>\n",
       "      <th></th>\n",
       "    </tr>\n",
       "  </thead>\n",
       "  <tbody>\n",
       "    <tr>\n",
       "      <th>1956967341</th>\n",
       "      <td>empty</td>\n",
       "      <td>@tiffanylue i know  i was listenin to bad habi...</td>\n",
       "    </tr>\n",
       "    <tr>\n",
       "      <th>1956967666</th>\n",
       "      <td>sadness</td>\n",
       "      <td>Layin n bed with a headache  ughhhh...waitin o...</td>\n",
       "    </tr>\n",
       "    <tr>\n",
       "      <th>1956967696</th>\n",
       "      <td>sadness</td>\n",
       "      <td>Funeral ceremony...gloomy friday...</td>\n",
       "    </tr>\n",
       "    <tr>\n",
       "      <th>1956967789</th>\n",
       "      <td>enthusiasm</td>\n",
       "      <td>wants to hang out with friends SOON!</td>\n",
       "    </tr>\n",
       "    <tr>\n",
       "      <th>1956968416</th>\n",
       "      <td>neutral</td>\n",
       "      <td>@dannycastillo We want to trade with someone w...</td>\n",
       "    </tr>\n",
       "  </tbody>\n",
       "</table>\n",
       "</div>"
      ],
      "text/plain": [
       "             sentiment                                            content\n",
       "tweet_id                                                                 \n",
       "1956967341       empty  @tiffanylue i know  i was listenin to bad habi...\n",
       "1956967666     sadness  Layin n bed with a headache  ughhhh...waitin o...\n",
       "1956967696     sadness                Funeral ceremony...gloomy friday...\n",
       "1956967789  enthusiasm               wants to hang out with friends SOON!\n",
       "1956968416     neutral  @dannycastillo We want to trade with someone w..."
      ]
     },
     "execution_count": 3,
     "metadata": {},
     "output_type": "execute_result"
    }
   ],
   "source": [
    "data.head()"
   ]
  },
  {
   "cell_type": "code",
   "execution_count": 4,
   "id": "2f938dc6",
   "metadata": {},
   "outputs": [
    {
     "name": "stdout",
     "output_type": "stream",
     "text": [
      "<class 'pandas.core.frame.DataFrame'>\n",
      "Index: 40000 entries, 1956967341 to 1753919049\n",
      "Data columns (total 2 columns):\n",
      " #   Column     Non-Null Count  Dtype \n",
      "---  ------     --------------  ----- \n",
      " 0   sentiment  40000 non-null  object\n",
      " 1   content    40000 non-null  object\n",
      "dtypes: object(2)\n",
      "memory usage: 937.5+ KB\n"
     ]
    }
   ],
   "source": [
    "data.info()"
   ]
  },
  {
   "cell_type": "code",
   "execution_count": 5,
   "id": "ddb10732",
   "metadata": {},
   "outputs": [
    {
     "data": {
      "text/plain": [
       "91"
      ]
     },
     "execution_count": 5,
     "metadata": {},
     "output_type": "execute_result"
    }
   ],
   "source": [
    "data.duplicated().sum()"
   ]
  },
  {
   "cell_type": "code",
   "execution_count": 6,
   "id": "3939e482",
   "metadata": {},
   "outputs": [],
   "source": [
    "data.drop_duplicates(inplace=True)"
   ]
  },
  {
   "cell_type": "code",
   "execution_count": 7,
   "id": "990b389d",
   "metadata": {},
   "outputs": [
    {
     "name": "stdout",
     "output_type": "stream",
     "text": [
      "<class 'pandas.core.frame.DataFrame'>\n",
      "Index: 39909 entries, 1956967341 to 1753919049\n",
      "Data columns (total 2 columns):\n",
      " #   Column     Non-Null Count  Dtype \n",
      "---  ------     --------------  ----- \n",
      " 0   sentiment  39909 non-null  object\n",
      " 1   content    39909 non-null  object\n",
      "dtypes: object(2)\n",
      "memory usage: 935.4+ KB\n"
     ]
    }
   ],
   "source": [
    "data.info()"
   ]
  },
  {
   "cell_type": "code",
   "execution_count": 8,
   "id": "ebc0e39e",
   "metadata": {},
   "outputs": [
    {
     "data": {
      "text/plain": [
       "sentiment\n",
       "neutral       8617\n",
       "worry         8452\n",
       "happiness     5194\n",
       "sadness       5160\n",
       "love          3801\n",
       "surprise      2187\n",
       "fun           1776\n",
       "relief        1524\n",
       "hate          1323\n",
       "empty          827\n",
       "enthusiasm     759\n",
       "boredom        179\n",
       "anger          110\n",
       "Name: count, dtype: int64"
      ]
     },
     "execution_count": 8,
     "metadata": {},
     "output_type": "execute_result"
    }
   ],
   "source": [
    "data['sentiment'].value_counts()"
   ]
  },
  {
   "cell_type": "code",
   "execution_count": 9,
   "id": "d686663f",
   "metadata": {},
   "outputs": [],
   "source": [
    "import seaborn as sns\n",
    "import matplotlib.pyplot as plt"
   ]
  },
  {
   "cell_type": "code",
   "execution_count": 10,
   "id": "01fd7feb",
   "metadata": {},
   "outputs": [],
   "source": [
    "data['content'] = data['content'].astype(str)"
   ]
  },
  {
   "cell_type": "code",
   "execution_count": 11,
   "id": "48af1e07",
   "metadata": {},
   "outputs": [
    {
     "data": {
      "image/png": "[encoded data removed]",
      "text/plain": [
       "<Figure size 1200x1200 with 1 Axes>"
      ]
     },
     "metadata": {},
     "output_type": "display_data"
    }
   ],
   "source": [
    "plt.figure(figsize=(12, 12))\n",
    "sns.countplot(x=data['sentiment'])\n",
    "plt.title('Sentiment')\n",
    "plt.show()"
   ]
  },
  {
   "cell_type": "code",
   "execution_count": 12,
   "id": "fdccaf54",
   "metadata": {},
   "outputs": [],
   "source": [
    "from sklearn.model_selection import train_test_split"
   ]
  },
  {
   "cell_type": "code",
   "execution_count": 13,
   "id": "6ee14aae",
   "metadata": {},
   "outputs": [],
   "source": [
    "X = data['content']\n",
    "y = data['sentiment']"
   ]
  },
  {
   "cell_type": "code",
   "execution_count": 14,
   "id": "b36af0a0",
   "metadata": {},
   "outputs": [],
   "source": [
    "X_train, X_temp, y_train, y_temp = train_test_split(X, y, test_size=0.20, random_state=42,stratify=y)\n",
    "X_val, X_test, y_val, y_test = train_test_split(X_temp, y_temp, test_size=0.20, random_state=42)"
   ]
  },
  {
   "cell_type": "code",
   "execution_count": 15,
   "id": "c58566f9",
   "metadata": {},
   "outputs": [
    {
     "name": "stderr",
     "output_type": "stream",
     "text": [
      "[nltk_data] Downloading package punkt to\n",
      "[nltk_data]     C:\\Users\\HP\\AppData\\Roaming\\nltk_data...\n",
      "[nltk_data]   Package punkt is already up-to-date!\n",
      "[nltk_data] Downloading package stopwords to\n",
      "[nltk_data]     C:\\Users\\HP\\AppData\\Roaming\\nltk_data...\n",
      "[nltk_data]   Package stopwords is already up-to-date!\n"
     ]
    }
   ],
   "source": [
    "import re\n",
    "import nltk\n",
    "from nltk.tokenize import word_tokenize\n",
    "nltk.download('punkt')\n",
    "from nltk.corpus import stopwords\n",
    "nltk.download('stopwords')\n",
    "from nltk.stem import PorterStemmer"
   ]
  },
  {
   "cell_type": "code",
   "execution_count": 16,
   "id": "c77ab5df",
   "metadata": {},
   "outputs": [],
   "source": [
    "def cleansing(df):\n",
    "   \n",
    "    df_clean = df.str.lower()\n",
    "\n",
    "    df_clean = [re.sub(r'http\\S+', '', i) for i in df_clean]\n",
    "\n",
    "    df_clean = [re.sub(r'@[\\w_]+', '', i) for i in df_clean]\n",
    "\n",
    "    df_clean = [re.sub(r'#', '', i) for i in df_clean]\n",
    "\n",
    "    df_clean = [re.sub(r'\\d+', '', i) for i in df_clean]\n",
    "\n",
    "    df_clean = [re.sub(r'[^\\w\\s]', ' ', i) for i in df_clean]\n",
    "\n",
    "    df_clean = [re.sub(r'\\s+', ' ', i).strip() for i in df_clean]\n",
    "\n",
    "    return df_clean"
   ]
  },
  {
   "cell_type": "code",
   "execution_count": 17,
   "id": "e6b789a7",
   "metadata": {},
   "outputs": [],
   "source": [
    "train_clean = cleansing(X_train)\n",
    "test_clean = cleansing(X_test)\n",
    "val_clean = cleansing(X_val)"
   ]
  },
  {
   "cell_type": "code",
   "execution_count": 18,
   "id": "f8ee257f",
   "metadata": {},
   "outputs": [],
   "source": [
    "stop_words = set(stopwords.words('english'))\n",
    "stemmer = PorterStemmer()\n",
    "\n",
    "def process_text(text):\n",
    "    tokens = word_tokenize(text)\n",
    "    filtered_tokens = [token for token in tokens if token.lower() not in stop_words]\n",
    "    stemmed_tokens = [stemmer.stem(token) for token in filtered_tokens]\n",
    "    return stemmed_tokens"
   ]
  },
  {
   "cell_type": "code",
   "execution_count": 19,
   "id": "4ddeef95",
   "metadata": {},
   "outputs": [],
   "source": [
    "train_processed = [process_text(text) for text in train_clean]\n",
    "test_processed = [process_text(text) for text in test_clean]\n",
    "val_processed = [process_text(text) for text in val_clean]"
   ]
  },
  {
   "cell_type": "code",
   "execution_count": 20,
   "id": "12e29c63",
   "metadata": {},
   "outputs": [
    {
     "data": {
      "text/plain": [
       "[['watch',\n",
       "  'termin',\n",
       "  'cri',\n",
       "  'one',\n",
       "  'movi',\n",
       "  'make',\n",
       "  'cri',\n",
       "  'reason',\n",
       "  'arni',\n",
       "  'die',\n",
       "  'im',\n",
       "  'lame'],\n",
       " ['wrote',\n",
       "  'tomorrow',\n",
       "  'dworld',\n",
       "  'show',\n",
       "  'follow',\n",
       "  'get',\n",
       "  'feed',\n",
       "  'soon',\n",
       "  'mine',\n",
       "  'see',\n",
       "  'first'],\n",
       " ['cool', 'good', 'back', 'train'],\n",
       " ['rose', 'romanc', 'releas', 'thursday', 'gon', 'na', 'get', 'bp'],\n",
       " ['happen',\n",
       "  'often',\n",
       "  'hate',\n",
       "  'everi',\n",
       "  'time',\n",
       "  'move',\n",
       "  'usernam',\n",
       "  'thought',\n",
       "  'love',\n",
       "  'move',\n",
       "  'soon']]"
      ]
     },
     "execution_count": 20,
     "metadata": {},
     "output_type": "execute_result"
    }
   ],
   "source": [
    "val_processed[0:5]"
   ]
  },
  {
   "cell_type": "code",
   "execution_count": 21,
   "id": "5fa7d921",
   "metadata": {},
   "outputs": [
    {
     "data": {
      "text/plain": [
       "[['love', 'new', 'websit'],\n",
       " ['gim',\n",
       "  'wan',\n",
       "  'na',\n",
       "  'tri',\n",
       "  'soulja',\n",
       "  'boy',\n",
       "  'tell',\n",
       "  'em',\n",
       "  'live',\n",
       "  'live',\n",
       "  'gt'],\n",
       " ['look',\n",
       "  'like',\n",
       "  'gm',\n",
       "  'bankruptci',\n",
       "  'go',\n",
       "  'happen',\n",
       "  'loss',\n",
       "  'help',\n",
       "  'offset',\n",
       "  'gain',\n",
       "  'earlier',\n",
       "  'year',\n",
       "  'tax',\n",
       "  'wise',\n",
       "  'oh',\n",
       "  'well'],\n",
       " ['anyon', 'want', 'chocol', 'nutella', 'mochi', 'gon', 'na', 'go', 'wast'],\n",
       " ['want',\n",
       "  'tuna',\n",
       "  'amp',\n",
       "  'salmon',\n",
       "  'sashimi',\n",
       "  'b',\n",
       "  'c',\n",
       "  'roll',\n",
       "  'dragon',\n",
       "  'eye']]"
      ]
     },
     "execution_count": 21,
     "metadata": {},
     "output_type": "execute_result"
    }
   ],
   "source": [
    "test_processed[0:5]"
   ]
  },
  {
   "cell_type": "code",
   "execution_count": 22,
   "id": "bbf5881e",
   "metadata": {},
   "outputs": [],
   "source": [
    "from sklearn.pipeline import Pipeline\n",
    "from sklearn.ensemble import RandomForestClassifier\n",
    "from sklearn.linear_model import LogisticRegression\n",
    "from sklearn.tree import DecisionTreeClassifier\n",
    "from sklearn.naive_bayes import MultinomialNB\n",
    "from sklearn.linear_model import SGDClassifier\n",
    "from sklearn.feature_extraction.text import TfidfVectorizer\n",
    "from sklearn.metrics import classification_report"
   ]
  },
  {
   "cell_type": "markdown",
   "id": "beecbf5c",
   "metadata": {},
   "source": [
    "#### Tf-IDF "
   ]
  },
  {
   "cell_type": "code",
   "execution_count": 23,
   "id": "3f048075",
   "metadata": {},
   "outputs": [],
   "source": [
    "def training_tfidf(model, data, target):\n",
    "    mod = Pipeline([('vect',TfidfVectorizer()),\n",
    "                   ('clf',model)])\n",
    "    mod.fit(data,target)\n",
    "    return mod"
   ]
  },
  {
   "cell_type": "markdown",
   "id": "25a097dd",
   "metadata": {},
   "source": [
    "### Decision Tree Model"
   ]
  },
  {
   "cell_type": "code",
   "execution_count": 24,
   "id": "6d57fcd6",
   "metadata": {},
   "outputs": [
    {
     "name": "stdout",
     "output_type": "stream",
     "text": [
      "              precision    recall  f1-score   support\n",
      "\n",
      "       anger       0.00      0.00      0.00         4\n",
      "     boredom       0.00      0.00      0.00         4\n",
      "       empty       0.08      0.09      0.08        33\n",
      "  enthusiasm       0.00      0.00      0.00        30\n",
      "         fun       0.06      0.04      0.05        68\n",
      "   happiness       0.27      0.27      0.27       202\n",
      "        hate       0.02      0.03      0.03        33\n",
      "        love       0.30      0.31      0.30       150\n",
      "     neutral       0.34      0.37      0.35       368\n",
      "      relief       0.10      0.05      0.07        76\n",
      "     sadness       0.23      0.25      0.24       197\n",
      "    surprise       0.09      0.08      0.09        85\n",
      "       worry       0.29      0.31      0.30       347\n",
      "\n",
      "    accuracy                           0.26      1597\n",
      "   macro avg       0.14      0.14      0.14      1597\n",
      "weighted avg       0.25      0.26      0.25      1597\n",
      "\n"
     ]
    }
   ],
   "source": [
    "DTree = training_tfidf(DecisionTreeClassifier(random_state = 42), X_train, y_train)\n",
    "y_pred=DTree.predict(X_test)\n",
    "print(classification_report(y_test, y_pred))"
   ]
  },
  {
   "cell_type": "markdown",
   "id": "b1767e66",
   "metadata": {},
   "source": [
    "### Random Forest Model"
   ]
  },
  {
   "cell_type": "code",
   "execution_count": 25,
   "id": "9d1edd1b",
   "metadata": {},
   "outputs": [
    {
     "name": "stdout",
     "output_type": "stream",
     "text": [
      "              precision    recall  f1-score   support\n",
      "\n",
      "       anger       0.00      0.00      0.00         4\n",
      "     boredom       0.00      0.00      0.00         4\n",
      "       empty       0.00      0.00      0.00        33\n",
      "  enthusiasm       0.00      0.00      0.00        30\n",
      "         fun       0.00      0.00      0.00        68\n",
      "   happiness       0.32      0.24      0.28       202\n",
      "        hate       0.38      0.09      0.15        33\n",
      "        love       0.50      0.41      0.45       150\n",
      "     neutral       0.33      0.58      0.42       368\n",
      "      relief       0.25      0.01      0.03        76\n",
      "     sadness       0.36      0.19      0.25       197\n",
      "    surprise       0.40      0.02      0.04        85\n",
      "       worry       0.31      0.48      0.37       347\n",
      "\n",
      "    accuracy                           0.33      1597\n",
      "   macro avg       0.22      0.16      0.15      1597\n",
      "weighted avg       0.31      0.33      0.29      1597\n",
      "\n"
     ]
    }
   ],
   "source": [
    "RandFor = training_tfidf(RandomForestClassifier(random_state = 42), X_train, y_train)\n",
    "y_pred=RandFor.predict(X_test)\n",
    "print(classification_report(y_test, y_pred))"
   ]
  },
  {
   "cell_type": "markdown",
   "id": "c7861692",
   "metadata": {},
   "source": [
    "### Logistic Regression Model"
   ]
  },
  {
   "cell_type": "code",
   "execution_count": 26,
   "id": "3d070b19",
   "metadata": {},
   "outputs": [
    {
     "name": "stdout",
     "output_type": "stream",
     "text": [
      "              precision    recall  f1-score   support\n",
      "\n",
      "       anger       0.00      0.00      0.00         4\n",
      "     boredom       0.00      0.00      0.00         4\n",
      "       empty       0.00      0.00      0.00        33\n",
      "  enthusiasm       0.00      0.00      0.00        30\n",
      "         fun       0.33      0.06      0.10        68\n",
      "   happiness       0.33      0.34      0.34       202\n",
      "        hate       0.36      0.12      0.18        33\n",
      "        love       0.52      0.46      0.49       150\n",
      "     neutral       0.38      0.52      0.44       368\n",
      "      relief       0.20      0.03      0.05        76\n",
      "     sadness       0.34      0.26      0.29       197\n",
      "    surprise       0.19      0.04      0.06        85\n",
      "       worry       0.32      0.52      0.40       347\n",
      "\n",
      "    accuracy                           0.36      1597\n",
      "   macro avg       0.23      0.18      0.18      1597\n",
      "weighted avg       0.33      0.36      0.33      1597\n",
      "\n"
     ]
    }
   ],
   "source": [
    "LogReg = training_tfidf(LogisticRegression(multi_class='multinomial', solver='lbfgs', max_iter=1000), X_train, y_train)\n",
    "y_pred=LogReg.predict(X_test)\n",
    "print(classification_report(y_test, y_pred))"
   ]
  },
  {
   "cell_type": "markdown",
   "id": "adce9bd2",
   "metadata": {},
   "source": [
    "### Multinomial Naive Bayes"
   ]
  },
  {
   "cell_type": "code",
   "execution_count": 27,
   "id": "3e52d891",
   "metadata": {},
   "outputs": [
    {
     "name": "stdout",
     "output_type": "stream",
     "text": [
      "              precision    recall  f1-score   support\n",
      "\n",
      "       anger       0.00      0.00      0.00         4\n",
      "     boredom       0.00      0.00      0.00         4\n",
      "       empty       0.00      0.00      0.00        33\n",
      "  enthusiasm       0.00      0.00      0.00        30\n",
      "         fun       0.00      0.00      0.00        68\n",
      "   happiness       0.30      0.06      0.11       202\n",
      "        hate       0.00      0.00      0.00        33\n",
      "        love       0.57      0.08      0.14       150\n",
      "     neutral       0.31      0.38      0.34       368\n",
      "      relief       0.00      0.00      0.00        76\n",
      "     sadness       0.40      0.01      0.02       197\n",
      "    surprise       0.00      0.00      0.00        85\n",
      "       worry       0.26      0.81      0.40       347\n",
      "\n",
      "    accuracy                           0.28      1597\n",
      "   macro avg       0.14      0.10      0.08      1597\n",
      "weighted avg       0.27      0.28      0.19      1597\n",
      "\n"
     ]
    }
   ],
   "source": [
    "NaiveBay = training_tfidf(MultinomialNB(), X_train, y_train)\n",
    "y_pred=NaiveBay.predict(X_test)\n",
    "print(classification_report(y_test, y_pred))"
   ]
  },
  {
   "cell_type": "markdown",
   "id": "9b050a98",
   "metadata": {},
   "source": [
    "### Linear SVM"
   ]
  },
  {
   "cell_type": "code",
   "execution_count": 28,
   "id": "33b66420",
   "metadata": {},
   "outputs": [
    {
     "name": "stdout",
     "output_type": "stream",
     "text": [
      "              precision    recall  f1-score   support\n",
      "\n",
      "       anger       0.00      0.00      0.00         4\n",
      "     boredom       0.00      0.00      0.00         4\n",
      "       empty       0.00      0.00      0.00        33\n",
      "  enthusiasm       0.00      0.00      0.00        30\n",
      "         fun       0.21      0.10      0.14        68\n",
      "   happiness       0.26      0.29      0.28       202\n",
      "        hate       0.18      0.18      0.18        33\n",
      "        love       0.40      0.55      0.46       150\n",
      "     neutral       0.42      0.44      0.43       368\n",
      "      relief       0.10      0.04      0.06        76\n",
      "     sadness       0.31      0.30      0.30       197\n",
      "    surprise       0.15      0.07      0.10        85\n",
      "       worry       0.35      0.41      0.38       347\n",
      "\n",
      "    accuracy                           0.33      1597\n",
      "   macro avg       0.18      0.18      0.18      1597\n",
      "weighted avg       0.31      0.33      0.31      1597\n",
      "\n"
     ]
    }
   ],
   "source": [
    "sgd = training_tfidf(SGDClassifier(loss='hinge', penalty='l2', alpha=1e-3, random_state=42, max_iter=5, tol=None), X_train, y_train)\n",
    "y_pred=sgd.predict(X_test)\n",
    "print(classification_report(y_test, y_pred))"
   ]
  }
 ],
 "metadata": {
  "kernelspec": {
   "display_name": "Python 3 (ipykernel)",
   "language": "python",
   "name": "python3"
  },
  "language_info": {
   "codemirror_mode": {
    "name": "ipython",
    "version": 3
   },
   "file_extension": ".py",
   "mimetype": "text/x-python",
   "name": "python",
   "nbconvert_exporter": "python",
   "pygments_lexer": "ipython3",
   "version": "3.10.11"
  }
 },
 "nbformat": 4,
 "nbformat_minor": 5
}
